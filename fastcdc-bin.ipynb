{
 "cells": [
  {
   "metadata": {
    "ExecuteTime": {
     "end_time": "2025-09-13T12:05:15.118207Z",
     "start_time": "2025-09-13T12:05:15.099472Z"
    }
   },
   "cell_type": "code",
   "source": [
    "import subprocess\n",
    "\n",
    "# Path to the fastcdc binary\n",
    "fastcdc_path = \"/Users/sanjeeb/Coding/HSSL/fastcdc-go/cmd/fastcdc/fastcdc\"\n",
    "\n",
    "# Input and output\n",
    "input_file = \"adapters_lr1e-5.npz\"     # must be in the same folder as the notebook or give full path\n",
    "output_file = \"chunks1.txt\"\n",
    "\n",
    "# Build the command\n",
    "cmd = [\n",
    "    fastcdc_path,\n",
    "    \"-file\", input_file,\n",
    "    \"-min\", \"16384\",\n",
    "    \"-avg\", \"32768\",\n",
    "    \"-max\", \"65536\"\n",
    "]\n",
    "\n",
    "# Run the command and redirect output\n",
    "with open(output_file, \"w\") as f:\n",
    "    subprocess.run(cmd, stdout=f, stderr=subprocess.PIPE, text=True)\n",
    "\n",
    "print(f\"✅ Finished chunking {input_file}, results saved in {output_file}\")\n"
   ],
   "id": "904d19b7f8ff8e37",
   "outputs": [
    {
     "name": "stdout",
     "output_type": "stream",
     "text": [
      "✅ Finished chunking adapters_lr1e-5.npz, results saved in chunks1.txt\n"
     ]
    }
   ],
   "execution_count": 1
  },
  {
   "metadata": {},
   "cell_type": "code",
   "outputs": [],
   "execution_count": null,
   "source": "",
   "id": "3d5f55440c568ac2"
  }
 ],
 "metadata": {},
 "nbformat": 4,
 "nbformat_minor": 5
}
